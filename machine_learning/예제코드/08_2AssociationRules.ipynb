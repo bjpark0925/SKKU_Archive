{
  "nbformat": 4,
  "nbformat_minor": 0,
  "metadata": {
    "colab": {
      "provenance": []
    },
    "kernelspec": {
      "name": "python3",
      "display_name": "Python 3"
    },
    "language_info": {
      "name": "python"
    }
  },
  "cells": [
    {
      "cell_type": "code",
      "execution_count": 13,
      "metadata": {
        "colab": {
          "base_uri": "https://localhost:8080/"
        },
        "id": "HNeAmP0UQIjS",
        "outputId": "58c94133-7ad7-419b-acaa-7a8d40ec000a"
      },
      "outputs": [
        {
          "output_type": "stream",
          "name": "stdout",
          "text": [
            "    Bread  Milk  Butter  Beer\n",
            "ID                           \n",
            "1       1     1       0     0\n",
            "2       0     1       1     1\n",
            "3       1     0       0     1\n",
            "4       1     1       1     0\n",
            "5       1     0       1     1\n"
          ]
        },
        {
          "output_type": "stream",
          "name": "stderr",
          "text": [
            "/usr/local/lib/python3.10/dist-packages/ipykernel/ipkernel.py:283: DeprecationWarning: `should_run_async` will not call `transform_cell` automatically in the future. Please pass the result to `transformed_cell` argument and any exception that happen during thetransform in `preprocessing_exc_tuple` in IPython 7.17 and above.\n",
            "  and should_run_async(code)\n"
          ]
        }
      ],
      "source": [
        "import pandas as pd\n",
        "from mlxtend.frequent_patterns import apriori, association_rules\n",
        "\n",
        "# 샘플 데이터 생성\n",
        "data = {\n",
        "    'ID': [1, 2, 3, 4, 5],\n",
        "    'Bread': [1, 0, 1, 1, 1],\n",
        "    'Milk': [1, 1, 0, 1, 0],\n",
        "    'Butter': [0, 1, 0, 1, 1],\n",
        "    'Beer': [0, 1, 1, 0, 1]\n",
        "}\n",
        "df = pd.DataFrame(data)\n",
        "df = df.set_index('ID')\n",
        "\n",
        "print(df)"
      ]
    },
    {
      "cell_type": "code",
      "source": [
        "# Apriori 알고리즘 적용\n",
        "frequent_itemsets = apriori(df, min_support=0.2, use_colnames=True)\n",
        "\n",
        "# 연관 규칙 생성\n",
        "rules = association_rules(frequent_itemsets, metric=\"lift\", min_threshold=1)\n",
        "print(rules[['antecedents', 'consequents', 'support', 'confidence', 'lift']])"
      ],
      "metadata": {
        "colab": {
          "base_uri": "https://localhost:8080/"
        },
        "id": "E9q8XzpEQW17",
        "outputId": "d6e592bb-4703-4310-a178-dbd2dce48628"
      },
      "execution_count": 14,
      "outputs": [
        {
          "output_type": "stream",
          "name": "stdout",
          "text": [
            "    antecedents   consequents  support  confidence      lift\n",
            "0        (Milk)      (Butter)      0.4    0.666667  1.111111\n",
            "1      (Butter)        (Milk)      0.4    0.666667  1.111111\n",
            "2        (Beer)      (Butter)      0.4    0.666667  1.111111\n",
            "3      (Butter)        (Beer)      0.4    0.666667  1.111111\n",
            "4  (Milk, Beer)      (Butter)      0.2    1.000000  1.666667\n",
            "5      (Butter)  (Milk, Beer)      0.2    0.333333  1.666667\n"
          ]
        },
        {
          "output_type": "stream",
          "name": "stderr",
          "text": [
            "/usr/local/lib/python3.10/dist-packages/ipykernel/ipkernel.py:283: DeprecationWarning: `should_run_async` will not call `transform_cell` automatically in the future. Please pass the result to `transformed_cell` argument and any exception that happen during thetransform in `preprocessing_exc_tuple` in IPython 7.17 and above.\n",
            "  and should_run_async(code)\n",
            "/usr/local/lib/python3.10/dist-packages/mlxtend/frequent_patterns/fpcommon.py:110: DeprecationWarning: DataFrames with non-bool types result in worse computationalperformance and their support might be discontinued in the future.Please use a DataFrame with bool type\n",
            "  warnings.warn(\n"
          ]
        }
      ]
    },
    {
      "cell_type": "code",
      "source": [
        "# Apriori 알고리즘 적용\n",
        "frequent_itemsets = apriori(df, min_support=0.3, use_colnames=True)\n",
        "\n",
        "# 연관 규칙 생성\n",
        "rules = association_rules(frequent_itemsets, metric=\"lift\", min_threshold=1)\n",
        "print(rules[['antecedents', 'consequents', 'support', 'confidence', 'lift']])"
      ],
      "metadata": {
        "colab": {
          "base_uri": "https://localhost:8080/"
        },
        "id": "wS5gF2ijSzsJ",
        "outputId": "906e1602-5f18-4d7d-a77a-dfe478066f93"
      },
      "execution_count": 16,
      "outputs": [
        {
          "output_type": "stream",
          "name": "stdout",
          "text": [
            "  antecedents consequents  support  confidence      lift\n",
            "0      (Milk)    (Butter)      0.4    0.666667  1.111111\n",
            "1    (Butter)      (Milk)      0.4    0.666667  1.111111\n",
            "2      (Beer)    (Butter)      0.4    0.666667  1.111111\n",
            "3    (Butter)      (Beer)      0.4    0.666667  1.111111\n"
          ]
        },
        {
          "output_type": "stream",
          "name": "stderr",
          "text": [
            "/usr/local/lib/python3.10/dist-packages/ipykernel/ipkernel.py:283: DeprecationWarning: `should_run_async` will not call `transform_cell` automatically in the future. Please pass the result to `transformed_cell` argument and any exception that happen during thetransform in `preprocessing_exc_tuple` in IPython 7.17 and above.\n",
            "  and should_run_async(code)\n",
            "/usr/local/lib/python3.10/dist-packages/mlxtend/frequent_patterns/fpcommon.py:110: DeprecationWarning: DataFrames with non-bool types result in worse computationalperformance and their support might be discontinued in the future.Please use a DataFrame with bool type\n",
            "  warnings.warn(\n"
          ]
        }
      ]
    },
    {
      "cell_type": "code",
      "source": [
        "from mlxtend.frequent_patterns import apriori\n",
        "from mlxtend.frequent_patterns import association_rules\n",
        "\n",
        "# 예시 데이터 생성\n",
        "data = {\n",
        "    'ID': [1, 2, 3, 4, 5],\n",
        "    'Onion': [1, 0, 0, 1, 1],\n",
        "    'Potato': [1, 1, 0, 1, 1],\n",
        "    'Burger': [1, 1, 0, 0, 1],\n",
        "    'Milk': [0, 1, 1, 1, 0],\n",
        "    'Beer': [0, 0, 1, 0, 1]\n",
        "}\n",
        "\n",
        "df = pd.DataFrame(data)\n",
        "df = df.set_index('ID')\n",
        "\n",
        "# Apriori 알고리즘 적용\n",
        "frequent_itemsets = apriori(df, min_support=0.4, use_colnames=True)\n",
        "\n",
        "# 연관 규칙 생성\n",
        "rules = association_rules(frequent_itemsets, metric=\"lift\", min_threshold=1)\n",
        "print(rules[['antecedents', 'consequents', 'support', 'confidence', 'lift']])"
      ],
      "metadata": {
        "colab": {
          "base_uri": "https://localhost:8080/"
        },
        "id": "ywZGVNlAQUWk",
        "outputId": "5c45911b-621b-4286-f918-f57bd3f1851f"
      },
      "execution_count": 12,
      "outputs": [
        {
          "output_type": "stream",
          "name": "stdout",
          "text": [
            "         antecedents       consequents  support  confidence      lift\n",
            "0           (Potato)           (Onion)      0.6    0.750000  1.250000\n",
            "1            (Onion)          (Potato)      0.6    1.000000  1.250000\n",
            "2           (Burger)           (Onion)      0.4    0.666667  1.111111\n",
            "3            (Onion)          (Burger)      0.4    0.666667  1.111111\n",
            "4           (Potato)          (Burger)      0.6    0.750000  1.250000\n",
            "5           (Burger)          (Potato)      0.6    1.000000  1.250000\n",
            "6   (Potato, Burger)           (Onion)      0.4    0.666667  1.111111\n",
            "7    (Potato, Onion)          (Burger)      0.4    0.666667  1.111111\n",
            "8    (Burger, Onion)          (Potato)      0.4    1.000000  1.250000\n",
            "9           (Potato)   (Burger, Onion)      0.4    0.500000  1.250000\n",
            "10          (Burger)   (Potato, Onion)      0.4    0.666667  1.111111\n",
            "11           (Onion)  (Potato, Burger)      0.4    0.666667  1.111111\n"
          ]
        },
        {
          "output_type": "stream",
          "name": "stderr",
          "text": [
            "/usr/local/lib/python3.10/dist-packages/ipykernel/ipkernel.py:283: DeprecationWarning: `should_run_async` will not call `transform_cell` automatically in the future. Please pass the result to `transformed_cell` argument and any exception that happen during thetransform in `preprocessing_exc_tuple` in IPython 7.17 and above.\n",
            "  and should_run_async(code)\n",
            "/usr/local/lib/python3.10/dist-packages/mlxtend/frequent_patterns/fpcommon.py:110: DeprecationWarning: DataFrames with non-bool types result in worse computationalperformance and their support might be discontinued in the future.Please use a DataFrame with bool type\n",
            "  warnings.warn(\n"
          ]
        }
      ]
    },
    {
      "cell_type": "code",
      "source": [
        "from mlxtend.frequent_patterns import apriori\n",
        "from mlxtend.frequent_patterns import association_rules\n",
        "\n",
        "# 예시 데이터 생성\n",
        "data = {\n",
        "    'ID': [1, 2, 3, 4, 5],\n",
        "    'Onion': [1, 0, 0, 1, 1],\n",
        "    'Potato': [1, 1, 0, 1, 1],\n",
        "    'Burger': [1, 1, 0, 0, 1],\n",
        "    'Milk': [0, 1, 1, 1, 0],\n",
        "    'Beer': [0, 0, 1, 0, 1]\n",
        "}\n",
        "\n",
        "df = pd.DataFrame(data)\n",
        "df = df.set_index('ID')\n",
        "\n",
        "# Apriori 알고리즘 적용\n",
        "frequent_itemsets = apriori(df, min_support=0.5, use_colnames=True)\n",
        "\n",
        "# 연관 규칙 생성\n",
        "rules = association_rules(frequent_itemsets, metric=\"lift\", min_threshold=1)\n",
        "print(rules[['antecedents', 'consequents', 'support', 'confidence', 'lift']])"
      ],
      "metadata": {
        "colab": {
          "base_uri": "https://localhost:8080/"
        },
        "id": "X2FyGoUJTsDp",
        "outputId": "a3e9c7da-c22d-482f-f777-92b0f1f1ebde"
      },
      "execution_count": 17,
      "outputs": [
        {
          "output_type": "stream",
          "name": "stdout",
          "text": [
            "  antecedents consequents  support  confidence  lift\n",
            "0    (Potato)     (Onion)      0.6        0.75  1.25\n",
            "1     (Onion)    (Potato)      0.6        1.00  1.25\n",
            "2    (Potato)    (Burger)      0.6        0.75  1.25\n",
            "3    (Burger)    (Potato)      0.6        1.00  1.25\n"
          ]
        },
        {
          "output_type": "stream",
          "name": "stderr",
          "text": [
            "/usr/local/lib/python3.10/dist-packages/ipykernel/ipkernel.py:283: DeprecationWarning: `should_run_async` will not call `transform_cell` automatically in the future. Please pass the result to `transformed_cell` argument and any exception that happen during thetransform in `preprocessing_exc_tuple` in IPython 7.17 and above.\n",
            "  and should_run_async(code)\n",
            "/usr/local/lib/python3.10/dist-packages/mlxtend/frequent_patterns/fpcommon.py:110: DeprecationWarning: DataFrames with non-bool types result in worse computationalperformance and their support might be discontinued in the future.Please use a DataFrame with bool type\n",
            "  warnings.warn(\n"
          ]
        }
      ]
    }
  ]
}