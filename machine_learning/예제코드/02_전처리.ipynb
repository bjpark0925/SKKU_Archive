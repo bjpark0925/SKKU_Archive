{
  "nbformat": 4,
  "nbformat_minor": 0,
  "metadata": {
    "colab": {
      "provenance": []
    },
    "kernelspec": {
      "name": "python3",
      "display_name": "Python 3"
    },
    "language_info": {
      "name": "python"
    }
  },
  "cells": [
    {
      "cell_type": "markdown",
      "source": [
        "**One-hot encoding**"
      ],
      "metadata": {
        "id": "Y0Q6bnJT_Tpb"
      }
    },
    {
      "cell_type": "code",
      "execution_count": 1,
      "metadata": {
        "colab": {
          "base_uri": "https://localhost:8080/"
        },
        "id": "c37EjkXB_H9t",
        "outputId": "e09a193f-8c29-4785-df5e-35091c9e7d3e"
      },
      "outputs": [
        {
          "output_type": "stream",
          "name": "stdout",
          "text": [
            "   Fruit_Apple  Fruit_Banana  Fruit_Cherry\n",
            "0            1             0             0\n",
            "1            0             1             0\n",
            "2            0             0             1\n",
            "3            1             0             0\n"
          ]
        }
      ],
      "source": [
        "import pandas as pd\n",
        "\n",
        "# 샘플 데이터 생성\n",
        "data = {'Fruit': ['Apple', 'Banana', 'Cherry', 'Apple']}\n",
        "df = pd.DataFrame(data)\n",
        "\n",
        "# One-hot encoding 수행\n",
        "encoded_df = pd.get_dummies(df, columns=['Fruit'])\n",
        "\n",
        "print(encoded_df)\n"
      ]
    },
    {
      "cell_type": "code",
      "source": [
        "from sklearn.preprocessing import OneHotEncoder\n",
        "\n",
        "# 샘플 데이터 생성\n",
        "data = [['Apple'], ['Banana'], ['Cherry'], ['Apple']]\n",
        "\n",
        "# OneHotEncoder 객체 생성 및 fitting\n",
        "encoder = OneHotEncoder(sparse=False)\n",
        "encoded_data = encoder.fit_transform(data)\n",
        "\n",
        "print(encoded_data)"
      ],
      "metadata": {
        "colab": {
          "base_uri": "https://localhost:8080/"
        },
        "id": "ah2U1w4j_dWw",
        "outputId": "45df529d-98af-49bb-f613-f776ab3b9b1b"
      },
      "execution_count": 2,
      "outputs": [
        {
          "output_type": "stream",
          "name": "stdout",
          "text": [
            "[[1. 0. 0.]\n",
            " [0. 1. 0.]\n",
            " [0. 0. 1.]\n",
            " [1. 0. 0.]]\n"
          ]
        },
        {
          "output_type": "stream",
          "name": "stderr",
          "text": [
            "/usr/local/lib/python3.10/dist-packages/sklearn/preprocessing/_encoders.py:868: FutureWarning: `sparse` was renamed to `sparse_output` in version 1.2 and will be removed in 1.4. `sparse_output` is ignored unless you leave `sparse` to its default value.\n",
            "  warnings.warn(\n"
          ]
        }
      ]
    },
    {
      "cell_type": "markdown",
      "source": [
        "**Label Encoding**"
      ],
      "metadata": {
        "id": "uZ0gwFcU_eOT"
      }
    },
    {
      "cell_type": "code",
      "source": [
        "from sklearn.preprocessing import LabelEncoder\n",
        "\n",
        "# 샘플 데이터 생성\n",
        "data = ['Apple', 'Banana', 'Cherry', 'Apple']\n",
        "\n",
        "# LabelEncoder 객체 생성 및 fitting\n",
        "encoder = LabelEncoder()\n",
        "encoded_data = encoder.fit_transform(data)\n",
        "\n",
        "print(encoded_data)  # 예: [0, 1, 2, 0]\n",
        "\n",
        "# 필요한 경우, 원래의 범주로 역변환도 가능\n",
        "original_data = encoder.inverse_transform(encoded_data)\n",
        "print(original_data)  # 예: ['Apple', 'Banana', 'Cherry', 'Apple']"
      ],
      "metadata": {
        "colab": {
          "base_uri": "https://localhost:8080/"
        },
        "id": "DouIZBcYA4tH",
        "outputId": "ace39b7d-b129-4fae-c5b3-773b5f3e193c"
      },
      "execution_count": 3,
      "outputs": [
        {
          "output_type": "stream",
          "name": "stdout",
          "text": [
            "[0 1 2 0]\n",
            "['Apple' 'Banana' 'Cherry' 'Apple']\n"
          ]
        }
      ]
    },
    {
      "cell_type": "markdown",
      "source": [
        "**Min-Max Scaling**"
      ],
      "metadata": {
        "id": "g253q4d3Bcle"
      }
    },
    {
      "cell_type": "code",
      "source": [
        "from sklearn.preprocessing import MinMaxScaler\n",
        "import numpy as np\n",
        "\n",
        "# 샘플 데이터 생성\n",
        "data = np.array([[10.0], [20.0], [30.0], [40.0]])\n",
        "\n",
        "# MinMaxScaler 객체 생성 및 fitting\n",
        "scaler = MinMaxScaler()\n",
        "scaled_data = scaler.fit_transform(data)\n",
        "\n",
        "print(scaled_data)"
      ],
      "metadata": {
        "colab": {
          "base_uri": "https://localhost:8080/"
        },
        "id": "4v6ZZJ-CA8c-",
        "outputId": "d776e770-d120-4692-c7f6-0e51427b0fef"
      },
      "execution_count": 4,
      "outputs": [
        {
          "output_type": "stream",
          "name": "stdout",
          "text": [
            "[[0.        ]\n",
            " [0.33333333]\n",
            " [0.66666667]\n",
            " [1.        ]]\n"
          ]
        }
      ]
    },
    {
      "cell_type": "markdown",
      "source": [
        "**Standard Scaling (Z-score normalization)**"
      ],
      "metadata": {
        "id": "Tmq_ZBVbB9lF"
      }
    },
    {
      "cell_type": "code",
      "source": [
        "from sklearn.preprocessing import StandardScaler\n",
        "\n",
        "# 샘플 데이터 생성\n",
        "data = np.array([[10.0], [20.0], [30.0], [40.0]])\n",
        "\n",
        "# StandardScaler 객체 생성 및 fitting\n",
        "scaler = StandardScaler()\n",
        "scaled_data = scaler.fit_transform(data)\n",
        "\n",
        "print(scaled_data)"
      ],
      "metadata": {
        "colab": {
          "base_uri": "https://localhost:8080/"
        },
        "id": "DOe6ugtNBeO0",
        "outputId": "f69dd5d2-16e2-40e1-b969-3983b27d2217"
      },
      "execution_count": 5,
      "outputs": [
        {
          "output_type": "stream",
          "name": "stdout",
          "text": [
            "[[-1.34164079]\n",
            " [-0.4472136 ]\n",
            " [ 0.4472136 ]\n",
            " [ 1.34164079]]\n"
          ]
        }
      ]
    }
  ]
}