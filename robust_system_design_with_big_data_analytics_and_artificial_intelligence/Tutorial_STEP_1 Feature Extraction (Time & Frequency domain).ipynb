{
 "cells": [
  {
   "cell_type": "markdown",
   "metadata": {},
   "source": [
    "## 라이브러리 import"
   ]
  },
  {
   "cell_type": "code",
   "execution_count": 1,
   "metadata": {},
   "outputs": [],
   "source": [
    "import pandas as pd\n",
    "import numpy as np\n",
    "import scipy.stats as sp\n",
    "import pywt"
   ]
  },
  {
   "cell_type": "markdown",
   "metadata": {},
   "source": [
    "## 데이터 크기 정의하기"
   ]
  },
  {
   "cell_type": "code",
   "execution_count": 2,
   "metadata": {},
   "outputs": [
    {
     "data": {
      "text/plain": [
       "(180, 3, 10)"
      ]
     },
     "execution_count": 2,
     "metadata": {},
     "output_type": "execute_result"
    }
   ],
   "source": [
    "NoOfData    = 180  # 정상/고장 데이터 각 180개씩 \n",
    "NoOfSensor  = 3    # 가속도(Acceleration), 전압(Voltage), 전류(Current)\n",
    "NoOfFeature = 10   # 특징 개수:10개 (순서: Max, Min, Mean, RMS, Variance, Skewness, Kurtosis, Crest factor, Shape factor, Impulse factor)\n",
    "\n",
    "NoOfData, NoOfSensor, NoOfFeature"
   ]
  },
  {
   "cell_type": "markdown",
   "metadata": {},
   "source": [
    "## Time Domain 특징값 추출 (10 features * 3 sensors = 30개씩)"
   ]
  },
  {
   "cell_type": "code",
   "execution_count": 3,
   "metadata": {},
   "outputs": [],
   "source": [
    "def rms(x): # RMS 함수 정의\n",
    "    return np.sqrt(np.mean(x**2))"
   ]
  },
  {
   "cell_type": "code",
   "execution_count": 4,
   "metadata": {},
   "outputs": [
    {
     "name": "stdout",
     "output_type": "stream",
     "text": [
      "(180, 30)\n",
      "(180, 30)\n"
     ]
    }
   ],
   "source": [
    "# 특징데이터 크기 지정\n",
    "TimeFeature_Normal   = np.zeros((NoOfData, NoOfSensor*NoOfFeature))\n",
    "TimeFeature_Abnormal = np.zeros((NoOfData, NoOfSensor*NoOfFeature))\n",
    "\n",
    "for i in range(NoOfData):\n",
    "    \n",
    "    # 데이터 불러오기\n",
    "    temp_path1 = './SpotWeldingData/Normal_%d.csv'%(i+1)   # Normal 데이터 파일 경로\n",
    "    temp_path2 = './SpotWeldingData/Abnormal_%d.csv'%(i+1) # Abnormal 데이터 파일 경로\n",
    "    temp_data1 = pd.read_csv(temp_path1 , sep=',')         # 임시 Normal 데이터\n",
    "    temp_data2 = pd.read_csv(temp_path2 , sep=',')         # 임시 Abnormal 데이터\n",
    "    \n",
    "    # Time Domain 특징값 추출\n",
    "    for j in range(NoOfSensor):\n",
    "        \n",
    "        # Normal Time Domain Feature\n",
    "        TimeFeature_Normal[i, 10*j+0] = np.max(temp_data1.iloc[:,j])\n",
    "        TimeFeature_Normal[i, 10*j+1] = np.min(temp_data1.iloc[:,j])\n",
    "        TimeFeature_Normal[i, 10*j+2] = np.mean(temp_data1.iloc[:,j])\n",
    "        TimeFeature_Normal[i, 10*j+3] = rms(temp_data1.iloc[:,j])\n",
    "        TimeFeature_Normal[i, 10*j+4] = np.var(temp_data1.iloc[:,j])\n",
    "        TimeFeature_Normal[i, 10*j+5] = sp.skew(temp_data1.iloc[:,j])\n",
    "        TimeFeature_Normal[i, 10*j+6] = sp.kurtosis(temp_data1.iloc[:,j])\n",
    "        TimeFeature_Normal[i, 10*j+7] = np.max(temp_data1.iloc[:,j])/rms(temp_data1.iloc[:,j])\n",
    "        TimeFeature_Normal[i, 10*j+8] = rms(temp_data1.iloc[:,j])/np.mean(np.abs(temp_data1.iloc[:,j]))\n",
    "        TimeFeature_Normal[i, 10*j+9] = np.max(temp_data1.iloc[:,j])/np.mean(np.abs(temp_data1.iloc[:,j]))\n",
    "        \n",
    "        # Abnormal Time Domain Feature\n",
    "        TimeFeature_Abnormal[i, 10*j+0] = np.max(temp_data2.iloc[:,j])\n",
    "        TimeFeature_Abnormal[i, 10*j+1] = np.min(temp_data2.iloc[:,j])\n",
    "        TimeFeature_Abnormal[i, 10*j+2] = np.mean(temp_data2.iloc[:,j])\n",
    "        TimeFeature_Abnormal[i, 10*j+3] = rms(temp_data2.iloc[:,j])\n",
    "        TimeFeature_Abnormal[i, 10*j+4] = np.var(temp_data2.iloc[:,j])\n",
    "        TimeFeature_Abnormal[i, 10*j+5] = sp.skew(temp_data2.iloc[:,j])\n",
    "        TimeFeature_Abnormal[i, 10*j+6] = sp.kurtosis(temp_data2.iloc[:,j])\n",
    "        TimeFeature_Abnormal[i, 10*j+7] = np.max(temp_data2.iloc[:,j])/rms(temp_data2.iloc[:,j])\n",
    "        TimeFeature_Abnormal[i, 10*j+8] = rms(temp_data2.iloc[:,j])/np.mean(np.abs(temp_data2.iloc[:,j]))\n",
    "        TimeFeature_Abnormal[i, 10*j+9] = np.max(temp_data2.iloc[:,j])/np.mean(np.abs(temp_data2.iloc[:,j]))\n",
    "        \n",
    "print(TimeFeature_Normal.shape)\n",
    "print(TimeFeature_Abnormal.shape)"
   ]
  },
  {
   "cell_type": "markdown",
   "metadata": {},
   "source": [
    "Normal, Abnormal 데이터 합치기  "
   ]
  },
  {
   "cell_type": "code",
   "execution_count": 5,
   "metadata": {},
   "outputs": [
    {
     "data": {
      "text/plain": [
       "(360, 30)"
      ]
     },
     "execution_count": 5,
     "metadata": {},
     "output_type": "execute_result"
    }
   ],
   "source": [
    "TimeFeature = np.concatenate([TimeFeature_Normal, TimeFeature_Abnormal] , axis=0)\n",
    "TimeFeature.shape"
   ]
  },
  {
   "cell_type": "markdown",
   "metadata": {},
   "source": [
    ".\n",
    "\n",
    ".\n",
    "\n",
    ".\n",
    "\n"
   ]
  },
  {
   "cell_type": "markdown",
   "metadata": {},
   "source": [
    "## Frequency Domain 특징값 추출 (10 features \\* 8 wavelet levels * 3 sensors = 240개씩)"
   ]
  },
  {
   "cell_type": "code",
   "execution_count": 6,
   "metadata": {},
   "outputs": [],
   "source": [
    "# Wavelet options\n",
    "\n",
    "MotherWavelet = pywt.Wavelet('haar')   # Mother wavelet (모함수) 지정\n",
    "Level   = 8                            # Wavelet 분해 레벨 지정\n",
    "select  = 8                            # 특징추출 영역 고주파 영역부터 개수 지정 (d1~)"
   ]
  },
  {
   "cell_type": "code",
   "execution_count": 7,
   "metadata": {},
   "outputs": [
    {
     "name": "stdout",
     "output_type": "stream",
     "text": [
      "(180, 240)\n",
      "(180, 240)\n"
     ]
    }
   ],
   "source": [
    "#Frequency Domain 특징값 추출 (Wavelet Transform 기반)\n",
    "FreqFeature_Normal   = np.zeros(shape=(NoOfData, NoOfSensor*NoOfFeature*select))\n",
    "FreqFeature_Abnormal = np.zeros(shape=(NoOfData, NoOfSensor*NoOfFeature*select))\n",
    "\n",
    "for i in range(NoOfData):\n",
    "    \n",
    "    # 데이터 불러오기\n",
    "    temp_path1 = './SpotWeldingData/Normal_%d.csv'%(i+1)    # Normal 데이터 파일 경로\n",
    "    temp_path2 = './SpotWeldingData/Abnormal_%d.csv'%(i+1)  # Abnormal 데이터 파일 경로\n",
    "    temp_data1 = np.array(pd.read_csv(temp_path1 , sep=',')) # 임시 Normal 데이터\n",
    "    temp_data2 = np.array(pd.read_csv(temp_path2 , sep=',')) # 임시 Abnormal 데이터\n",
    "    Coef1      = pywt.wavedec(temp_data1, MotherWavelet, level=Level, axis=0)\n",
    "    Coef2      = pywt.wavedec(temp_data2, MotherWavelet, level=Level, axis=0)\n",
    "    \n",
    "    # Frequency Domain 특징값 추출\n",
    "    for j in range(NoOfSensor):\n",
    "        \n",
    "        for k in range(select):\n",
    "            coef1 = Coef1[Level-k]\n",
    "            coef2 = Coef2[Level-k]\n",
    "            \n",
    "            # Normal Frequency Domain Feature\n",
    "            FreqFeature_Normal[i, NoOfFeature*j*select+k*NoOfFeature+0] = np.max(coef1[:,j])\n",
    "            FreqFeature_Normal[i, NoOfFeature*j*select+k*NoOfFeature+1] = np.min(coef1[:,j])\n",
    "            FreqFeature_Normal[i, NoOfFeature*j*select+k*NoOfFeature+2] = np.mean(coef1[:,j])\n",
    "            FreqFeature_Normal[i, NoOfFeature*j*select+k*NoOfFeature+3] = rms(coef1[:,j])\n",
    "            FreqFeature_Normal[i, NoOfFeature*j*select+k*NoOfFeature+4] = np.var(coef1[:,j])\n",
    "            FreqFeature_Normal[i, NoOfFeature*j*select+k*NoOfFeature+5] = sp.skew(coef1[:,j])\n",
    "            FreqFeature_Normal[i, NoOfFeature*j*select+k*NoOfFeature+6] = sp.kurtosis(coef1[:,j])\n",
    "            FreqFeature_Normal[i, NoOfFeature*j*select+k*NoOfFeature+7] = np.max(coef1[:,j])/rms(coef1[:,j])\n",
    "            FreqFeature_Normal[i, NoOfFeature*j*select+k*NoOfFeature+8] = rms(coef1[:,j])/np.mean(np.abs(coef1[:,j]))\n",
    "            FreqFeature_Normal[i, NoOfFeature*j*select+k*NoOfFeature+9] = np.max(coef1[:,j])/np.mean(np.abs(coef1[:,j]))\n",
    "            \n",
    "            # Abnormal Frequency Domain Feature\n",
    "            FreqFeature_Abnormal[i, NoOfFeature*j*select+k*NoOfFeature+0] = np.max(coef2[:,j])\n",
    "            FreqFeature_Abnormal[i, NoOfFeature*j*select+k*NoOfFeature+1] = np.min(coef2[:,j])\n",
    "            FreqFeature_Abnormal[i, NoOfFeature*j*select+k*NoOfFeature+2] = np.mean(coef2[:,j])\n",
    "            FreqFeature_Abnormal[i, NoOfFeature*j*select+k*NoOfFeature+3] = rms(coef2[:,j])\n",
    "            FreqFeature_Abnormal[i, NoOfFeature*j*select+k*NoOfFeature+4] = np.var(coef2[:,j])\n",
    "            FreqFeature_Abnormal[i, NoOfFeature*j*select+k*NoOfFeature+5] = sp.skew(coef2[:,j])\n",
    "            FreqFeature_Abnormal[i, NoOfFeature*j*select+k*NoOfFeature+6] = sp.kurtosis(coef2[:,j])\n",
    "            FreqFeature_Abnormal[i, NoOfFeature*j*select+k*NoOfFeature+7] = np.max(coef2[:,j])/rms(coef2[:,j])\n",
    "            FreqFeature_Abnormal[i, NoOfFeature*j*select+k*NoOfFeature+8] = rms(coef2[:,j])/np.mean(np.abs(coef2[:,j]))\n",
    "            FreqFeature_Abnormal[i, NoOfFeature*j*select+k*NoOfFeature+9] = np.max(coef2[:,j])/np.mean(np.abs(coef2[:,j]))\n",
    "\n",
    "print(FreqFeature_Normal.shape)\n",
    "print(FreqFeature_Abnormal.shape)"
   ]
  },
  {
   "cell_type": "markdown",
   "metadata": {},
   "source": [
    "Normal, Abnormal 특징값 합치기      "
   ]
  },
  {
   "cell_type": "code",
   "execution_count": 8,
   "metadata": {},
   "outputs": [
    {
     "data": {
      "text/plain": [
       "(360, 240)"
      ]
     },
     "execution_count": 8,
     "metadata": {},
     "output_type": "execute_result"
    }
   ],
   "source": [
    "FreqFeature = np.concatenate([FreqFeature_Normal, FreqFeature_Abnormal] , axis=0)\n",
    "FreqFeature.shape"
   ]
  },
  {
   "cell_type": "markdown",
   "metadata": {},
   "source": [
    ".\n",
    "\n",
    ".\n",
    "\n",
    ".\n",
    "\n"
   ]
  },
  {
   "cell_type": "markdown",
   "metadata": {},
   "source": [
    "## Feature 통합 (Time domain 30개 + Freq. domain 240 = 270개)"
   ]
  },
  {
   "cell_type": "code",
   "execution_count": 9,
   "metadata": {},
   "outputs": [
    {
     "name": "stdout",
     "output_type": "stream",
     "text": [
      "Feature Data Size : (360, 270)\n",
      "= 데이터 360개(정상/고장 각 180개씩)가 각각 270개의 특징값으로 구성됨\n"
     ]
    }
   ],
   "source": [
    "Features = np.concatenate([TimeFeature, FreqFeature] , axis=1)\n",
    "\n",
    "print(\"Feature Data Size :\", Features.shape)\n",
    "print(\"= 데이터 %d개(정상/고장 각 %d개씩)가 각각 %d개의 특징값으로 구성됨\"%(Features.shape[0], Features.shape[0]/2, Features.shape[1]))"
   ]
  },
  {
   "cell_type": "markdown",
   "metadata": {},
   "source": [
    "저장에 용이한 Data frame 형식으로 변환"
   ]
  },
  {
   "cell_type": "code",
   "execution_count": 10,
   "metadata": {},
   "outputs": [
    {
     "data": {
      "text/html": [
       "<div>\n",
       "<style scoped>\n",
       "    .dataframe tbody tr th:only-of-type {\n",
       "        vertical-align: middle;\n",
       "    }\n",
       "\n",
       "    .dataframe tbody tr th {\n",
       "        vertical-align: top;\n",
       "    }\n",
       "\n",
       "    .dataframe thead th {\n",
       "        text-align: right;\n",
       "    }\n",
       "</style>\n",
       "<table border=\"1\" class=\"dataframe\">\n",
       "  <thead>\n",
       "    <tr style=\"text-align: right;\">\n",
       "      <th></th>\n",
       "      <th>0</th>\n",
       "      <th>1</th>\n",
       "      <th>2</th>\n",
       "      <th>3</th>\n",
       "      <th>4</th>\n",
       "      <th>5</th>\n",
       "      <th>6</th>\n",
       "      <th>7</th>\n",
       "      <th>8</th>\n",
       "      <th>9</th>\n",
       "      <th>...</th>\n",
       "      <th>260</th>\n",
       "      <th>261</th>\n",
       "      <th>262</th>\n",
       "      <th>263</th>\n",
       "      <th>264</th>\n",
       "      <th>265</th>\n",
       "      <th>266</th>\n",
       "      <th>267</th>\n",
       "      <th>268</th>\n",
       "      <th>269</th>\n",
       "    </tr>\n",
       "  </thead>\n",
       "  <tbody>\n",
       "    <tr>\n",
       "      <th>0</th>\n",
       "      <td>1.35100</td>\n",
       "      <td>-1.37200</td>\n",
       "      <td>0.011083</td>\n",
       "      <td>0.426105</td>\n",
       "      <td>0.181443</td>\n",
       "      <td>-0.190394</td>\n",
       "      <td>0.075070</td>\n",
       "      <td>3.170579</td>\n",
       "      <td>1.308556</td>\n",
       "      <td>4.148881</td>\n",
       "      <td>...</td>\n",
       "      <td>27.413055</td>\n",
       "      <td>-26.156209</td>\n",
       "      <td>1.339847</td>\n",
       "      <td>19.972107</td>\n",
       "      <td>397.089869</td>\n",
       "      <td>-0.069441</td>\n",
       "      <td>-1.500603</td>\n",
       "      <td>1.372567</td>\n",
       "      <td>1.136464</td>\n",
       "      <td>1.559874</td>\n",
       "    </tr>\n",
       "    <tr>\n",
       "      <th>1</th>\n",
       "      <td>31.66100</td>\n",
       "      <td>-22.78600</td>\n",
       "      <td>0.023339</td>\n",
       "      <td>2.312749</td>\n",
       "      <td>5.348262</td>\n",
       "      <td>0.733160</td>\n",
       "      <td>56.416904</td>\n",
       "      <td>13.689771</td>\n",
       "      <td>2.988680</td>\n",
       "      <td>40.914350</td>\n",
       "      <td>...</td>\n",
       "      <td>27.780724</td>\n",
       "      <td>-25.610594</td>\n",
       "      <td>1.594287</td>\n",
       "      <td>19.976598</td>\n",
       "      <td>396.522728</td>\n",
       "      <td>-0.095775</td>\n",
       "      <td>-1.513689</td>\n",
       "      <td>1.390663</td>\n",
       "      <td>1.123389</td>\n",
       "      <td>1.562256</td>\n",
       "    </tr>\n",
       "    <tr>\n",
       "      <th>2</th>\n",
       "      <td>31.83200</td>\n",
       "      <td>-23.61300</td>\n",
       "      <td>0.020506</td>\n",
       "      <td>2.313820</td>\n",
       "      <td>5.353342</td>\n",
       "      <td>0.809841</td>\n",
       "      <td>59.990727</td>\n",
       "      <td>13.757337</td>\n",
       "      <td>3.048930</td>\n",
       "      <td>41.945157</td>\n",
       "      <td>...</td>\n",
       "      <td>27.199963</td>\n",
       "      <td>-25.957053</td>\n",
       "      <td>1.403277</td>\n",
       "      <td>19.978553</td>\n",
       "      <td>397.173388</td>\n",
       "      <td>-0.094919</td>\n",
       "      <td>-1.520788</td>\n",
       "      <td>1.361458</td>\n",
       "      <td>1.128936</td>\n",
       "      <td>1.536999</td>\n",
       "    </tr>\n",
       "    <tr>\n",
       "      <th>3</th>\n",
       "      <td>1.41830</td>\n",
       "      <td>-1.08560</td>\n",
       "      <td>0.027215</td>\n",
       "      <td>0.396240</td>\n",
       "      <td>0.156266</td>\n",
       "      <td>-0.222429</td>\n",
       "      <td>-0.090202</td>\n",
       "      <td>3.579394</td>\n",
       "      <td>1.306388</td>\n",
       "      <td>4.676077</td>\n",
       "      <td>...</td>\n",
       "      <td>27.310880</td>\n",
       "      <td>-25.913666</td>\n",
       "      <td>1.279570</td>\n",
       "      <td>19.968877</td>\n",
       "      <td>397.118765</td>\n",
       "      <td>-0.098230</td>\n",
       "      <td>-1.502072</td>\n",
       "      <td>1.367672</td>\n",
       "      <td>1.125794</td>\n",
       "      <td>1.539718</td>\n",
       "    </tr>\n",
       "    <tr>\n",
       "      <th>4</th>\n",
       "      <td>1.05340</td>\n",
       "      <td>-1.05750</td>\n",
       "      <td>0.016574</td>\n",
       "      <td>0.388252</td>\n",
       "      <td>0.150465</td>\n",
       "      <td>-0.279663</td>\n",
       "      <td>-0.094792</td>\n",
       "      <td>2.713186</td>\n",
       "      <td>1.322550</td>\n",
       "      <td>3.588324</td>\n",
       "      <td>...</td>\n",
       "      <td>27.444745</td>\n",
       "      <td>-25.652639</td>\n",
       "      <td>1.124162</td>\n",
       "      <td>20.116104</td>\n",
       "      <td>403.393882</td>\n",
       "      <td>-0.091625</td>\n",
       "      <td>-1.514240</td>\n",
       "      <td>1.364317</td>\n",
       "      <td>1.126631</td>\n",
       "      <td>1.537082</td>\n",
       "    </tr>\n",
       "    <tr>\n",
       "      <th>...</th>\n",
       "      <td>...</td>\n",
       "      <td>...</td>\n",
       "      <td>...</td>\n",
       "      <td>...</td>\n",
       "      <td>...</td>\n",
       "      <td>...</td>\n",
       "      <td>...</td>\n",
       "      <td>...</td>\n",
       "      <td>...</td>\n",
       "      <td>...</td>\n",
       "      <td>...</td>\n",
       "      <td>...</td>\n",
       "      <td>...</td>\n",
       "      <td>...</td>\n",
       "      <td>...</td>\n",
       "      <td>...</td>\n",
       "      <td>...</td>\n",
       "      <td>...</td>\n",
       "      <td>...</td>\n",
       "      <td>...</td>\n",
       "      <td>...</td>\n",
       "    </tr>\n",
       "    <tr>\n",
       "      <th>355</th>\n",
       "      <td>0.74749</td>\n",
       "      <td>-0.78229</td>\n",
       "      <td>0.037731</td>\n",
       "      <td>0.338766</td>\n",
       "      <td>0.113339</td>\n",
       "      <td>-0.331700</td>\n",
       "      <td>-0.224237</td>\n",
       "      <td>2.206506</td>\n",
       "      <td>1.300623</td>\n",
       "      <td>2.869832</td>\n",
       "      <td>...</td>\n",
       "      <td>27.606268</td>\n",
       "      <td>-26.712706</td>\n",
       "      <td>0.781096</td>\n",
       "      <td>20.229283</td>\n",
       "      <td>408.613777</td>\n",
       "      <td>-0.115580</td>\n",
       "      <td>-1.518307</td>\n",
       "      <td>1.364669</td>\n",
       "      <td>1.125013</td>\n",
       "      <td>1.535270</td>\n",
       "    </tr>\n",
       "    <tr>\n",
       "      <th>356</th>\n",
       "      <td>0.71832</td>\n",
       "      <td>-0.51380</td>\n",
       "      <td>0.036942</td>\n",
       "      <td>0.265980</td>\n",
       "      <td>0.069381</td>\n",
       "      <td>0.015054</td>\n",
       "      <td>-0.190223</td>\n",
       "      <td>2.700652</td>\n",
       "      <td>1.310460</td>\n",
       "      <td>3.539097</td>\n",
       "      <td>...</td>\n",
       "      <td>27.480376</td>\n",
       "      <td>-26.910771</td>\n",
       "      <td>0.740953</td>\n",
       "      <td>20.348248</td>\n",
       "      <td>413.502184</td>\n",
       "      <td>-0.106127</td>\n",
       "      <td>-1.515108</td>\n",
       "      <td>1.350503</td>\n",
       "      <td>1.128016</td>\n",
       "      <td>1.523390</td>\n",
       "    </tr>\n",
       "    <tr>\n",
       "      <th>357</th>\n",
       "      <td>0.84546</td>\n",
       "      <td>-0.65627</td>\n",
       "      <td>0.035927</td>\n",
       "      <td>0.321351</td>\n",
       "      <td>0.101976</td>\n",
       "      <td>0.066285</td>\n",
       "      <td>-0.316172</td>\n",
       "      <td>2.630953</td>\n",
       "      <td>1.307231</td>\n",
       "      <td>3.439263</td>\n",
       "      <td>...</td>\n",
       "      <td>26.793667</td>\n",
       "      <td>-27.107096</td>\n",
       "      <td>0.580973</td>\n",
       "      <td>20.351617</td>\n",
       "      <td>413.850805</td>\n",
       "      <td>-0.117642</td>\n",
       "      <td>-1.526302</td>\n",
       "      <td>1.316537</td>\n",
       "      <td>1.127961</td>\n",
       "      <td>1.485003</td>\n",
       "    </tr>\n",
       "    <tr>\n",
       "      <th>358</th>\n",
       "      <td>0.84845</td>\n",
       "      <td>-0.74789</td>\n",
       "      <td>0.035836</td>\n",
       "      <td>0.323284</td>\n",
       "      <td>0.103229</td>\n",
       "      <td>0.035263</td>\n",
       "      <td>-0.277617</td>\n",
       "      <td>2.624470</td>\n",
       "      <td>1.306921</td>\n",
       "      <td>3.429974</td>\n",
       "      <td>...</td>\n",
       "      <td>27.405049</td>\n",
       "      <td>-24.952029</td>\n",
       "      <td>1.216872</td>\n",
       "      <td>19.921322</td>\n",
       "      <td>395.378279</td>\n",
       "      <td>-0.080779</td>\n",
       "      <td>-1.508744</td>\n",
       "      <td>1.375664</td>\n",
       "      <td>1.127325</td>\n",
       "      <td>1.550821</td>\n",
       "    </tr>\n",
       "    <tr>\n",
       "      <th>359</th>\n",
       "      <td>0.75833</td>\n",
       "      <td>-0.91429</td>\n",
       "      <td>0.036279</td>\n",
       "      <td>0.302785</td>\n",
       "      <td>0.090362</td>\n",
       "      <td>0.042102</td>\n",
       "      <td>-0.317266</td>\n",
       "      <td>2.504520</td>\n",
       "      <td>1.293570</td>\n",
       "      <td>3.239770</td>\n",
       "      <td>...</td>\n",
       "      <td>27.848727</td>\n",
       "      <td>-25.271339</td>\n",
       "      <td>1.178859</td>\n",
       "      <td>20.053823</td>\n",
       "      <td>400.766124</td>\n",
       "      <td>-0.074024</td>\n",
       "      <td>-1.499973</td>\n",
       "      <td>1.388699</td>\n",
       "      <td>1.130289</td>\n",
       "      <td>1.569632</td>\n",
       "    </tr>\n",
       "  </tbody>\n",
       "</table>\n",
       "<p>360 rows × 270 columns</p>\n",
       "</div>"
      ],
      "text/plain": [
       "          0         1         2         3         4         5          6    \\\n",
       "0     1.35100  -1.37200  0.011083  0.426105  0.181443 -0.190394   0.075070   \n",
       "1    31.66100 -22.78600  0.023339  2.312749  5.348262  0.733160  56.416904   \n",
       "2    31.83200 -23.61300  0.020506  2.313820  5.353342  0.809841  59.990727   \n",
       "3     1.41830  -1.08560  0.027215  0.396240  0.156266 -0.222429  -0.090202   \n",
       "4     1.05340  -1.05750  0.016574  0.388252  0.150465 -0.279663  -0.094792   \n",
       "..        ...       ...       ...       ...       ...       ...        ...   \n",
       "355   0.74749  -0.78229  0.037731  0.338766  0.113339 -0.331700  -0.224237   \n",
       "356   0.71832  -0.51380  0.036942  0.265980  0.069381  0.015054  -0.190223   \n",
       "357   0.84546  -0.65627  0.035927  0.321351  0.101976  0.066285  -0.316172   \n",
       "358   0.84845  -0.74789  0.035836  0.323284  0.103229  0.035263  -0.277617   \n",
       "359   0.75833  -0.91429  0.036279  0.302785  0.090362  0.042102  -0.317266   \n",
       "\n",
       "           7         8          9    ...        260        261       262  \\\n",
       "0     3.170579  1.308556   4.148881  ...  27.413055 -26.156209  1.339847   \n",
       "1    13.689771  2.988680  40.914350  ...  27.780724 -25.610594  1.594287   \n",
       "2    13.757337  3.048930  41.945157  ...  27.199963 -25.957053  1.403277   \n",
       "3     3.579394  1.306388   4.676077  ...  27.310880 -25.913666  1.279570   \n",
       "4     2.713186  1.322550   3.588324  ...  27.444745 -25.652639  1.124162   \n",
       "..         ...       ...        ...  ...        ...        ...       ...   \n",
       "355   2.206506  1.300623   2.869832  ...  27.606268 -26.712706  0.781096   \n",
       "356   2.700652  1.310460   3.539097  ...  27.480376 -26.910771  0.740953   \n",
       "357   2.630953  1.307231   3.439263  ...  26.793667 -27.107096  0.580973   \n",
       "358   2.624470  1.306921   3.429974  ...  27.405049 -24.952029  1.216872   \n",
       "359   2.504520  1.293570   3.239770  ...  27.848727 -25.271339  1.178859   \n",
       "\n",
       "           263         264       265       266       267       268       269  \n",
       "0    19.972107  397.089869 -0.069441 -1.500603  1.372567  1.136464  1.559874  \n",
       "1    19.976598  396.522728 -0.095775 -1.513689  1.390663  1.123389  1.562256  \n",
       "2    19.978553  397.173388 -0.094919 -1.520788  1.361458  1.128936  1.536999  \n",
       "3    19.968877  397.118765 -0.098230 -1.502072  1.367672  1.125794  1.539718  \n",
       "4    20.116104  403.393882 -0.091625 -1.514240  1.364317  1.126631  1.537082  \n",
       "..         ...         ...       ...       ...       ...       ...       ...  \n",
       "355  20.229283  408.613777 -0.115580 -1.518307  1.364669  1.125013  1.535270  \n",
       "356  20.348248  413.502184 -0.106127 -1.515108  1.350503  1.128016  1.523390  \n",
       "357  20.351617  413.850805 -0.117642 -1.526302  1.316537  1.127961  1.485003  \n",
       "358  19.921322  395.378279 -0.080779 -1.508744  1.375664  1.127325  1.550821  \n",
       "359  20.053823  400.766124 -0.074024 -1.499973  1.388699  1.130289  1.569632  \n",
       "\n",
       "[360 rows x 270 columns]"
      ]
     },
     "execution_count": 10,
     "metadata": {},
     "output_type": "execute_result"
    }
   ],
   "source": [
    "FeatureData = pd.DataFrame(Features)\n",
    "FeatureData"
   ]
  },
  {
   "cell_type": "markdown",
   "metadata": {},
   "source": [
    "추출된 특징 데이터 저장 (.csv 파일)"
   ]
  },
  {
   "cell_type": "code",
   "execution_count": 11,
   "metadata": {},
   "outputs": [],
   "source": [
    "path = './ProcessedData/FeatureData.csv'   # path = '파일 경로/저장할 파일 이름'\n",
    "FeatureData.to_csv(path, sep=',', header=None , index=None)"
   ]
  },
  {
   "cell_type": "code",
   "execution_count": null,
   "metadata": {},
   "outputs": [],
   "source": []
  }
 ],
 "metadata": {
  "kernelspec": {
   "display_name": "Python 3 (ipykernel)",
   "language": "python",
   "name": "python3"
  },
  "language_info": {
   "codemirror_mode": {
    "name": "ipython",
    "version": 3
   },
   "file_extension": ".py",
   "mimetype": "text/x-python",
   "name": "python",
   "nbconvert_exporter": "python",
   "pygments_lexer": "ipython3",
   "version": "3.11.5"
  }
 },
 "nbformat": 4,
 "nbformat_minor": 2
}
