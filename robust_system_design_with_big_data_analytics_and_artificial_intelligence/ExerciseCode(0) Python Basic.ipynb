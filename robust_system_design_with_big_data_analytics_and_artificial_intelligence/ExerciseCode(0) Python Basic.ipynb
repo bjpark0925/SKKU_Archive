{
 "cells": [
  {
   "cell_type": "markdown",
   "id": "db3a50f7",
   "metadata": {},
   "source": [
    "참고 사이트: 점프 투 파이썬\n",
    "\n",
    "https://wikidocs.net/book/1"
   ]
  },
  {
   "cell_type": "markdown",
   "id": "93b7375c",
   "metadata": {},
   "source": [
    "### 자료형"
   ]
  },
  {
   "cell_type": "code",
   "execution_count": 1,
   "id": "35e0c77d",
   "metadata": {},
   "outputs": [
    {
     "name": "stdout",
     "output_type": "stream",
     "text": [
      "3\n",
      "<class 'int'>\n"
     ]
    }
   ],
   "source": [
    "num1 = 1\n",
    "num2 = 2\n",
    "print(num1 + num2)\n",
    "print(type(num1 + num2))"
   ]
  },
  {
   "cell_type": "code",
   "execution_count": 2,
   "id": "7d952b0f",
   "metadata": {},
   "outputs": [
    {
     "name": "stdout",
     "output_type": "stream",
     "text": [
      "3.0\n",
      "<class 'float'>\n"
     ]
    }
   ],
   "source": [
    "num1 = 1.0\n",
    "num2 = 2.0\n",
    "print(num1 + num2)\n",
    "print(type(num1 + num2))"
   ]
  },
  {
   "cell_type": "code",
   "execution_count": 3,
   "id": "a76ea971",
   "metadata": {},
   "outputs": [
    {
     "name": "stdout",
     "output_type": "stream",
     "text": [
      "12\n",
      "<class 'str'>\n"
     ]
    }
   ],
   "source": [
    "num1 = '1'\n",
    "num2 = '2'\n",
    "print(num1 + num2)\n",
    "print(type(num1 + num2))"
   ]
  },
  {
   "cell_type": "code",
   "execution_count": 4,
   "id": "2183e6ea",
   "metadata": {},
   "outputs": [
    {
     "name": "stdout",
     "output_type": "stream",
     "text": [
      "7\n",
      "<class 'list'>\n"
     ]
    }
   ],
   "source": [
    "list1 = [1, 2, 3, 4, 5]\n",
    "print(list1[1] + list1[-1])\n",
    "print(type(list1))"
   ]
  },
  {
   "cell_type": "markdown",
   "id": "cae9528d",
   "metadata": {},
   "source": [
    "### 기본 연산자"
   ]
  },
  {
   "cell_type": "code",
   "execution_count": 5,
   "id": "3608d7c6",
   "metadata": {},
   "outputs": [
    {
     "name": "stdout",
     "output_type": "stream",
     "text": [
      "7\n",
      "3\n",
      "10\n",
      "2.5\n",
      "2\n",
      "1\n",
      "25\n"
     ]
    }
   ],
   "source": [
    "# 대입 연산자\n",
    "num1, num2 = 5, 2\n",
    "\n",
    "# 산술 연산자\n",
    "print(num1 + num2) # 합\n",
    "print(num1 - num2) # 차\n",
    "print(num1 * num2) # 곱\n",
    "print(num1 / num2) # 나누기\n",
    "print(num1 // num2) # 몫\n",
    "print(num1 % num2) # 나머지\n",
    "print(num1 ** num2) # 제곱"
   ]
  },
  {
   "cell_type": "code",
   "execution_count": 6,
   "id": "c7c285b1",
   "metadata": {},
   "outputs": [
    {
     "name": "stdout",
     "output_type": "stream",
     "text": [
      "True\n",
      "False\n",
      "\n",
      "\n",
      "False\n",
      "True\n"
     ]
    }
   ],
   "source": [
    "# 비교 연산자\n",
    "num1, num2 = 1, 1.0\n",
    "\n",
    "print(num1 == num2)\n",
    "print(num1 != num2)\n",
    "print('\\n')\n",
    "\n",
    "print(num1 is num2)\n",
    "print(num1 is not num2)"
   ]
  },
  {
   "cell_type": "code",
   "execution_count": 7,
   "id": "472e3aea",
   "metadata": {},
   "outputs": [
    {
     "name": "stdout",
     "output_type": "stream",
     "text": [
      "True\n",
      "False\n",
      "False\n",
      "\n",
      "\n",
      "True\n",
      "True\n",
      "False\n",
      "\n",
      "\n",
      "False\n",
      "True\n"
     ]
    }
   ],
   "source": [
    "# 논리 연산자\n",
    "print(True and True)\n",
    "print(True and False)\n",
    "print(False and False)\n",
    "print('\\n')\n",
    "\n",
    "print(True or True)\n",
    "print(True or False)\n",
    "print(False or False)\n",
    "print('\\n')\n",
    "      \n",
    "print(not True)\n",
    "print(not False)"
   ]
  },
  {
   "cell_type": "markdown",
   "id": "2a8e4eda",
   "metadata": {},
   "source": [
    "### 조건문"
   ]
  },
  {
   "cell_type": "code",
   "execution_count": 8,
   "id": "cd87c789",
   "metadata": {},
   "outputs": [
    {
     "name": "stdout",
     "output_type": "stream",
     "text": [
      "6 is bigger than 2\n"
     ]
    }
   ],
   "source": [
    "num1, num2 = 6, 2\n",
    "\n",
    "if num1 > num2:\n",
    "    print('{} is bigger than {}'.format(num1, num2))\n",
    "elif num1 == num2:\n",
    "    print('{} and {} are equal in value'.format(num1, num2))\n",
    "else:\n",
    "    print('{} is smaller than {}'.format(num1, num2))"
   ]
  },
  {
   "cell_type": "markdown",
   "id": "36baa0c7",
   "metadata": {},
   "source": [
    "### 반복문"
   ]
  },
  {
   "cell_type": "code",
   "execution_count": 9,
   "id": "51cf8193",
   "metadata": {},
   "outputs": [
    {
     "name": "stdout",
     "output_type": "stream",
     "text": [
      "0\n",
      "1\n",
      "2\n",
      "3\n",
      "4\n",
      "5\n",
      "6\n",
      "7\n",
      "8\n",
      "9\n"
     ]
    }
   ],
   "source": [
    "for i in range(10):\n",
    "    \n",
    "    print(i)"
   ]
  },
  {
   "cell_type": "code",
   "execution_count": 10,
   "id": "8b8d5d7f",
   "metadata": {},
   "outputs": [
    {
     "name": "stdout",
     "output_type": "stream",
     "text": [
      "0\n",
      "1\n",
      "2\n",
      "3\n",
      "4\n",
      "5\n"
     ]
    }
   ],
   "source": [
    "for i in range(10):\n",
    "    \n",
    "    if i > 5:\n",
    "        break\n",
    "    \n",
    "    print(i)"
   ]
  },
  {
   "cell_type": "code",
   "execution_count": 11,
   "id": "9a26cbbf",
   "metadata": {},
   "outputs": [
    {
     "name": "stdout",
     "output_type": "stream",
     "text": [
      "0 0 0\n",
      "0 1 1\n",
      "0 2 2\n",
      "0 3 3\n",
      "0 4 4\n",
      "0 5 5\n",
      "0 6 6\n",
      "0 7 7\n",
      "0 8 8\n",
      "0 9 9\n",
      "1 0 1\n",
      "1 1 2\n",
      "1 2 3\n",
      "1 3 4\n",
      "1 4 5\n",
      "1 5 6\n",
      "1 6 7\n",
      "1 7 8\n",
      "1 8 9\n",
      "1 9 10\n",
      "2 0 2\n",
      "2 1 3\n",
      "2 2 4\n",
      "2 3 5\n",
      "2 4 6\n",
      "2 5 7\n",
      "2 6 8\n",
      "2 7 9\n",
      "2 8 10\n",
      "2 9 11\n",
      "3 0 3\n",
      "3 1 4\n",
      "3 2 5\n",
      "3 3 6\n",
      "3 4 7\n",
      "3 5 8\n",
      "3 6 9\n",
      "3 7 10\n",
      "3 8 11\n",
      "3 9 12\n",
      "4 0 4\n",
      "4 1 5\n",
      "4 2 6\n",
      "4 3 7\n",
      "4 4 8\n",
      "4 5 9\n",
      "4 6 10\n",
      "4 7 11\n",
      "4 8 12\n",
      "4 9 13\n",
      "5 0 5\n",
      "5 1 6\n",
      "5 2 7\n",
      "5 3 8\n",
      "5 4 9\n",
      "5 5 10\n",
      "5 6 11\n",
      "5 7 12\n",
      "5 8 13\n",
      "5 9 14\n",
      "6 0 6\n",
      "6 1 7\n",
      "6 2 8\n",
      "6 3 9\n",
      "6 4 10\n",
      "6 5 11\n",
      "6 6 12\n",
      "6 7 13\n",
      "6 8 14\n",
      "6 9 15\n",
      "7 0 7\n",
      "7 1 8\n",
      "7 2 9\n",
      "7 3 10\n",
      "7 4 11\n",
      "7 5 12\n",
      "7 6 13\n",
      "7 7 14\n",
      "7 8 15\n",
      "7 9 16\n",
      "8 0 8\n",
      "8 1 9\n",
      "8 2 10\n",
      "8 3 11\n",
      "8 4 12\n",
      "8 5 13\n",
      "8 6 14\n",
      "8 7 15\n",
      "8 8 16\n",
      "8 9 17\n",
      "9 0 9\n",
      "9 1 10\n",
      "9 2 11\n",
      "9 3 12\n",
      "9 4 13\n",
      "9 5 14\n",
      "9 6 15\n",
      "9 7 16\n",
      "9 8 17\n",
      "9 9 18\n"
     ]
    }
   ],
   "source": [
    "for i in range(10):\n",
    "    for j in range(10):\n",
    "        print(i, j, i + j)"
   ]
  },
  {
   "cell_type": "code",
   "execution_count": 12,
   "id": "9d34d40f",
   "metadata": {},
   "outputs": [
    {
     "name": "stdout",
     "output_type": "stream",
     "text": [
      "0\n",
      "1\n",
      "2\n",
      "3\n",
      "4\n"
     ]
    }
   ],
   "source": [
    "i = 0\n",
    "while i < 5:\n",
    "    print(i)\n",
    "    i = i + 1"
   ]
  },
  {
   "cell_type": "markdown",
   "id": "43b54b71",
   "metadata": {},
   "source": [
    "### 함수 만들기"
   ]
  },
  {
   "cell_type": "code",
   "execution_count": 13,
   "id": "6b27b6af",
   "metadata": {},
   "outputs": [],
   "source": [
    "def multi(A, B):\n",
    "    value = A * B\n",
    "    return value"
   ]
  },
  {
   "cell_type": "code",
   "execution_count": 14,
   "id": "f86280d4",
   "metadata": {},
   "outputs": [
    {
     "name": "stdout",
     "output_type": "stream",
     "text": [
      "50\n"
     ]
    }
   ],
   "source": [
    "print(multi(5, 10))"
   ]
  },
  {
   "cell_type": "markdown",
   "id": "eb8054a9",
   "metadata": {},
   "source": [
    "### 내장 함수 사용하기: 문자열 Execution(실행하기)"
   ]
  },
  {
   "cell_type": "code",
   "execution_count": 15,
   "id": "23e59653",
   "metadata": {},
   "outputs": [],
   "source": [
    "hello = 'print(\"world\")'"
   ]
  },
  {
   "cell_type": "code",
   "execution_count": 16,
   "id": "ba208a3e",
   "metadata": {},
   "outputs": [
    {
     "name": "stdout",
     "output_type": "stream",
     "text": [
      "print(\"world\")\n"
     ]
    }
   ],
   "source": [
    "print(hello)"
   ]
  },
  {
   "cell_type": "code",
   "execution_count": 17,
   "id": "2f19aeec",
   "metadata": {},
   "outputs": [
    {
     "name": "stdout",
     "output_type": "stream",
     "text": [
      "world\n"
     ]
    }
   ],
   "source": [
    "exec(hello)"
   ]
  },
  {
   "cell_type": "code",
   "execution_count": 18,
   "id": "37a36deb",
   "metadata": {},
   "outputs": [
    {
     "name": "stdout",
     "output_type": "stream",
     "text": [
      "world\n"
     ]
    }
   ],
   "source": [
    "exec('print(\"world\")')"
   ]
  },
  {
   "cell_type": "markdown",
   "id": "2043a2ca",
   "metadata": {},
   "source": [
    "### 라이브러리 함수 사용하기"
   ]
  },
  {
   "cell_type": "code",
   "execution_count": 19,
   "id": "b84a45dd",
   "metadata": {},
   "outputs": [
    {
     "data": {
      "text/plain": [
       "array([0, 1, 2, 3, 4])"
      ]
     },
     "execution_count": 19,
     "metadata": {},
     "output_type": "execute_result"
    }
   ],
   "source": [
    "import numpy as np\n",
    "\n",
    "arr1 = np.array( range(5), dtype = int )\n",
    "arr1"
   ]
  },
  {
   "cell_type": "code",
   "execution_count": 20,
   "id": "70ef2299",
   "metadata": {},
   "outputs": [
    {
     "name": "stdout",
     "output_type": "stream",
     "text": [
      "4\n",
      "0\n",
      "10\n"
     ]
    }
   ],
   "source": [
    "# 라이브러리의 함수 사용\n",
    "print(np.max(arr1))\n",
    "print(np.min(arr1))\n",
    "print(np.sum(arr1))"
   ]
  },
  {
   "cell_type": "code",
   "execution_count": 21,
   "id": "afed3872",
   "metadata": {},
   "outputs": [],
   "source": [
    "import pandas as pd\n",
    "\n",
    "arr2 = np.array([[1,2,3],\n",
    "                 [4,5,6],\n",
    "                 [7,8,9]])\n",
    "\n",
    "df2 = pd.DataFrame(arr2)\n",
    "\n",
    "df2.to_csv('./dataframe', header=None, index=None)"
   ]
  },
  {
   "cell_type": "code",
   "execution_count": null,
   "id": "6b4e17f9",
   "metadata": {},
   "outputs": [],
   "source": []
  }
 ],
 "metadata": {
  "kernelspec": {
   "display_name": "Python 3 (ipykernel)",
   "language": "python",
   "name": "python3"
  },
  "language_info": {
   "codemirror_mode": {
    "name": "ipython",
    "version": 3
   },
   "file_extension": ".py",
   "mimetype": "text/x-python",
   "name": "python",
   "nbconvert_exporter": "python",
   "pygments_lexer": "ipython3",
   "version": "3.11.5"
  }
 },
 "nbformat": 4,
 "nbformat_minor": 5
}
